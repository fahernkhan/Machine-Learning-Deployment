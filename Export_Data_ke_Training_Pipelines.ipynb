{
  "nbformat": 4,
  "nbformat_minor": 0,
  "metadata": {
    "colab": {
      "provenance": [],
      "authorship_tag": "ABX9TyOOR1YqJLbXuFX6IVSo+j7s",
      "include_colab_link": true
    },
    "kernelspec": {
      "name": "python3",
      "display_name": "Python 3"
    },
    "language_info": {
      "name": "python"
    }
  },
  "cells": [
    {
      "cell_type": "markdown",
      "metadata": {
        "id": "view-in-github",
        "colab_type": "text"
      },
      "source": [
        "<a href=\"https://colab.research.google.com/github/fahernkhan/Machine-Learning-Deployment/blob/main/Export_Data_ke_Training_Pipelines.ipynb\" target=\"_parent\"><img src=\"https://colab.research.google.com/assets/colab-badge.svg\" alt=\"Open In Colab\"/></a>"
      ]
    },
    {
      "cell_type": "code",
      "execution_count": 1,
      "metadata": {
        "id": "Qou1A53HXH2o"
      },
      "outputs": [],
      "source": [
        "import pandas as pd\n",
        "import numpy as np\n",
        " \n",
        "import tensorflow as tf\n",
        " \n",
        "from tensorflow import feature_column\n",
        "from tensorflow.keras import layers\n",
        "from sklearn.model_selection import train_test_split"
      ]
    },
    {
      "cell_type": "markdown",
      "source": [
        "Selanjutnya gunakan Pandas DataFrame untuk membaca file CSV"
      ],
      "metadata": {
        "id": "IIaQqiVqifiA"
      }
    },
    {
      "cell_type": "code",
      "source": [
        "url= 'https://raw.githubusercontent.com/natashayulian/diamond_dataset/master/diamonds.csv'\n",
        "df = pd.read_csv(url)"
      ],
      "metadata": {
        "id": "or3gDTGfiL8x"
      },
      "execution_count": 2,
      "outputs": []
    },
    {
      "cell_type": "markdown",
      "source": [
        "Setelah data telah dalam format dataframe, Split dataset menjadi training, test, dan validation. Selain itu, kita juga perlu mendefinisikan kolom target."
      ],
      "metadata": {
        "id": "6LF-OZdtilXA"
      }
    },
    {
      "cell_type": "code",
      "source": [
        "train, test = train_test_split(df, test_size=0.2)\n",
        "train, val = train_test_split(train, test_size=0.2)\n",
        "print(len(train), 'train examples')\n",
        "print(len(val), 'validation examples')\n",
        "print(len(test), 'test examples')"
      ],
      "metadata": {
        "colab": {
          "base_uri": "https://localhost:8080/"
        },
        "id": "LXbMmnzYigvB",
        "outputId": "18f1623b-062f-4dd5-ef13-baf36b099891"
      },
      "execution_count": 3,
      "outputs": [
        {
          "output_type": "stream",
          "name": "stdout",
          "text": [
            "34521 train examples\n",
            "8631 validation examples\n",
            "10788 test examples\n"
          ]
        }
      ]
    },
    {
      "cell_type": "code",
      "source": [
        "#Membuat kolom target\n",
        "# 0 = low; 1 = high\n",
        "df['target'] = np.where(df['price'] <= 1000, 0, 1)\n",
        "# Drop un-used columns.\n",
        "df = df.drop(columns=['price'])"
      ],
      "metadata": {
        "id": "ufP8nf3giqSP"
      },
      "execution_count": 4,
      "outputs": []
    },
    {
      "cell_type": "markdown",
      "source": [
        "Kemudian bungkus dataframe dengan tf.data agar memungkinkan untuk menggunakan feature column sebagai jembatan dari dataframe menjadi fitur yang digunakan untuk train model. Jika file CSV nya sangat besar, kita harus menggunakan tf.data untuk membaca file tersebut dari harddisk."
      ],
      "metadata": {
        "id": "1e6pyc_cj7JQ"
      }
    },
    {
      "cell_type": "code",
      "source": [
        "# Cara untuk membuat dataset tf.data dari pandas dataframe\n",
        "def df_to_dataset(dataframe, shuffle=True, batch_size=32):\n",
        "  dataframe = df.copy()\n",
        "  labels = dataframe.pop('target')\n",
        "  ds = tf.data.Dataset.from_tensor_slices((dict(dataframe), labels))\n",
        "  if shuffle:\n",
        "    ds = ds.shuffle(buffer_size=len(dataframe))\n",
        "  ds = ds.batch(batch_size)\n",
        "  return ds\n",
        "batch_size = 10 #bath ukuran kecil untuk demonstrasi\n",
        "train_ds = df_to_dataset(train, batch_size=batch_size)\n",
        "val_ds = df_to_dataset(val, shuffle=False, batch_size=batch_size)\n",
        "test_ds = df_to_dataset(test, shuffle=False, batch_size=batch_size)"
      ],
      "metadata": {
        "id": "jJM4UcxCjV6n"
      },
      "execution_count": 5,
      "outputs": []
    },
    {
      "cell_type": "markdown",
      "source": [
        "Kemudian buat feature layer sebagai input ke dalam model tf.Keras."
      ],
      "metadata": {
        "id": "_buHNgXel7Hx"
      }
    },
    {
      "cell_type": "code",
      "source": [
        "#Pilih feature column mana yang akan digunakan\n",
        "feature_columns = []\n",
        "# numeric column\n",
        "for header in ['carat', 'depth', 'x', 'y', 'z']:\n",
        "  feature_columns.append(feature_column.numeric_column(header))\n",
        " \n",
        "#membuat feature layer\n",
        "feature_layer = tf.keras.layers.DenseFeatures(feature_columns)\n",
        "batch_size = 32\n",
        "train_ds = df_to_dataset(train, batch_size=batch_size)\n",
        "val_ds = df_to_dataset(val, shuffle=False, batch_size=batch_size)\n",
        "test_ds = df_to_dataset(test, shuffle=False, batch_size=batch_size)"
      ],
      "metadata": {
        "colab": {
          "base_uri": "https://localhost:8080/"
        },
        "id": "6k_2kzaWkCrg",
        "outputId": "be25e392-ebfe-4f3d-86a0-829e9e6b8346"
      },
      "execution_count": 6,
      "outputs": [
        {
          "output_type": "stream",
          "name": "stderr",
          "text": [
            "WARNING:tensorflow:From <ipython-input-6-7b07a0422838>:5: numeric_column (from tensorflow.python.feature_column.feature_column_v2) is deprecated and will be removed in a future version.\n",
            "Instructions for updating:\n",
            "Use Keras preprocessing layers instead, either directly or via the `tf.keras.utils.FeatureSpace` utility. Each of `tf.feature_column.*` has a functional equivalent in `tf.keras.layers` for feature preprocessing when training a Keras model.\n"
          ]
        }
      ]
    },
    {
      "cell_type": "markdown",
      "source": [
        "Terakhir tulislah kode untuk create, compile, dan train model."
      ],
      "metadata": {
        "id": "2bTtMMJCmPTv"
      }
    },
    {
      "cell_type": "code",
      "source": [
        "#create, compile, and train the model\n",
        "model = tf.keras.Sequential([\n",
        "  feature_layer,\n",
        "  layers.Dense(128, activation='relu'),\n",
        "  layers.Dense(128, activation='relu'),\n",
        "  layers.Dropout(.1),\n",
        "  layers.Dense(1)\n",
        "])\n",
        " \n",
        "model.compile(optimizer='adam',\n",
        "              loss=tf.keras.losses.BinaryCrossentropy(from_logits=True),\n",
        "              metrics=['accuracy'])\n",
        " \n",
        "model.fit(train_ds,\n",
        "          validation_data=val_ds,\n",
        "          epochs=10)"
      ],
      "metadata": {
        "colab": {
          "base_uri": "https://localhost:8080/"
        },
        "id": "8AB-IdrkmMs8",
        "outputId": "8c99e636-84b0-4042-98a4-2d3ee9c72b19"
      },
      "execution_count": 7,
      "outputs": [
        {
          "output_type": "stream",
          "name": "stdout",
          "text": [
            "Epoch 1/10\n"
          ]
        },
        {
          "output_type": "stream",
          "name": "stderr",
          "text": [
            "WARNING:tensorflow:Layers in a Sequential model should only have a single input tensor. Received: inputs={'Unnamed: 0': <tf.Tensor 'IteratorGetNext:0' shape=(None,) dtype=int64>, 'carat': <tf.Tensor 'IteratorGetNext:1' shape=(None,) dtype=float64>, 'cut': <tf.Tensor 'IteratorGetNext:4' shape=(None,) dtype=string>, 'color': <tf.Tensor 'IteratorGetNext:3' shape=(None,) dtype=string>, 'clarity': <tf.Tensor 'IteratorGetNext:2' shape=(None,) dtype=string>, 'depth': <tf.Tensor 'IteratorGetNext:5' shape=(None,) dtype=float64>, 'table': <tf.Tensor 'IteratorGetNext:6' shape=(None,) dtype=float64>, 'x': <tf.Tensor 'IteratorGetNext:7' shape=(None,) dtype=float64>, 'y': <tf.Tensor 'IteratorGetNext:8' shape=(None,) dtype=float64>, 'z': <tf.Tensor 'IteratorGetNext:9' shape=(None,) dtype=float64>}. Consider rewriting this model with the Functional API.\n",
            "WARNING:tensorflow:Layers in a Sequential model should only have a single input tensor. Received: inputs={'Unnamed: 0': <tf.Tensor 'IteratorGetNext:0' shape=(None,) dtype=int64>, 'carat': <tf.Tensor 'IteratorGetNext:1' shape=(None,) dtype=float64>, 'cut': <tf.Tensor 'IteratorGetNext:4' shape=(None,) dtype=string>, 'color': <tf.Tensor 'IteratorGetNext:3' shape=(None,) dtype=string>, 'clarity': <tf.Tensor 'IteratorGetNext:2' shape=(None,) dtype=string>, 'depth': <tf.Tensor 'IteratorGetNext:5' shape=(None,) dtype=float64>, 'table': <tf.Tensor 'IteratorGetNext:6' shape=(None,) dtype=float64>, 'x': <tf.Tensor 'IteratorGetNext:7' shape=(None,) dtype=float64>, 'y': <tf.Tensor 'IteratorGetNext:8' shape=(None,) dtype=float64>, 'z': <tf.Tensor 'IteratorGetNext:9' shape=(None,) dtype=float64>}. Consider rewriting this model with the Functional API.\n"
          ]
        },
        {
          "output_type": "stream",
          "name": "stdout",
          "text": [
            "1675/1686 [============================>.] - ETA: 0s - loss: 0.2156 - accuracy: 0.9065"
          ]
        },
        {
          "output_type": "stream",
          "name": "stderr",
          "text": [
            "WARNING:tensorflow:Layers in a Sequential model should only have a single input tensor. Received: inputs={'Unnamed: 0': <tf.Tensor 'IteratorGetNext:0' shape=(None,) dtype=int64>, 'carat': <tf.Tensor 'IteratorGetNext:1' shape=(None,) dtype=float64>, 'cut': <tf.Tensor 'IteratorGetNext:4' shape=(None,) dtype=string>, 'color': <tf.Tensor 'IteratorGetNext:3' shape=(None,) dtype=string>, 'clarity': <tf.Tensor 'IteratorGetNext:2' shape=(None,) dtype=string>, 'depth': <tf.Tensor 'IteratorGetNext:5' shape=(None,) dtype=float64>, 'table': <tf.Tensor 'IteratorGetNext:6' shape=(None,) dtype=float64>, 'x': <tf.Tensor 'IteratorGetNext:7' shape=(None,) dtype=float64>, 'y': <tf.Tensor 'IteratorGetNext:8' shape=(None,) dtype=float64>, 'z': <tf.Tensor 'IteratorGetNext:9' shape=(None,) dtype=float64>}. Consider rewriting this model with the Functional API.\n"
          ]
        },
        {
          "output_type": "stream",
          "name": "stdout",
          "text": [
            "\b\b\b\b\b\b\b\b\b\b\b\b\b\b\b\b\b\b\b\b\b\b\b\b\b\b\b\b\b\b\b\b\b\b\b\b\b\b\b\b\b\b\b\b\b\b\b\b\b\b\b\b\b\b\b\b\b\b\b\b\b\b\b\b\b\b\b\b\b\b\b\b\b\b\b\b\b\b\b\b\b\b\b\b\b\b\r1686/1686 [==============================] - 14s 7ms/step - loss: 0.2157 - accuracy: 0.9066 - val_loss: 0.1587 - val_accuracy: 0.9374\n",
            "Epoch 2/10\n",
            "1686/1686 [==============================] - 11s 6ms/step - loss: 0.1568 - accuracy: 0.9347 - val_loss: 0.1455 - val_accuracy: 0.9377\n",
            "Epoch 3/10\n",
            "1686/1686 [==============================] - 10s 6ms/step - loss: 0.1529 - accuracy: 0.9354 - val_loss: 0.1539 - val_accuracy: 0.9381\n",
            "Epoch 4/10\n",
            "1686/1686 [==============================] - 12s 7ms/step - loss: 0.1494 - accuracy: 0.9363 - val_loss: 0.1417 - val_accuracy: 0.9378\n",
            "Epoch 5/10\n",
            "1686/1686 [==============================] - 12s 7ms/step - loss: 0.1486 - accuracy: 0.9363 - val_loss: 0.1397 - val_accuracy: 0.9379\n",
            "Epoch 6/10\n",
            "1686/1686 [==============================] - 11s 6ms/step - loss: 0.1465 - accuracy: 0.9365 - val_loss: 0.1405 - val_accuracy: 0.9380\n",
            "Epoch 7/10\n",
            "1686/1686 [==============================] - 8s 5ms/step - loss: 0.1442 - accuracy: 0.9367 - val_loss: 0.1421 - val_accuracy: 0.9387\n",
            "Epoch 8/10\n",
            "1686/1686 [==============================] - 9s 5ms/step - loss: 0.1435 - accuracy: 0.9371 - val_loss: 0.1408 - val_accuracy: 0.9353\n",
            "Epoch 9/10\n",
            "1686/1686 [==============================] - 9s 5ms/step - loss: 0.1432 - accuracy: 0.9368 - val_loss: 0.1393 - val_accuracy: 0.9388\n",
            "Epoch 10/10\n",
            "1686/1686 [==============================] - 11s 6ms/step - loss: 0.1433 - accuracy: 0.9364 - val_loss: 0.1456 - val_accuracy: 0.9385\n"
          ]
        },
        {
          "output_type": "execute_result",
          "data": {
            "text/plain": [
              "<keras.callbacks.History at 0x7f1d9e9d3a60>"
            ]
          },
          "metadata": {},
          "execution_count": 7
        }
      ]
    }
  ]
}